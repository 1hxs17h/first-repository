{
  "nbformat": 4,
  "nbformat_minor": 0,
  "metadata": {
    "colab": {
      "provenance": [],
      "collapsed_sections": [
        "d8TEU79qw3Ol"
      ],
      "authorship_tag": "ABX9TyMUc+6dJjpTHxBN7SHP/ALC",
      "include_colab_link": true
    },
    "kernelspec": {
      "name": "python3",
      "display_name": "Python 3"
    },
    "language_info": {
      "name": "python"
    }
  },
  "cells": [
    {
      "cell_type": "markdown",
      "metadata": {
        "id": "view-in-github",
        "colab_type": "text"
      },
      "source": [
        "<a href=\"https://colab.research.google.com/github/1hxs17h/first-repository/blob/master/MainQuest04.ipynb\" target=\"_parent\"><img src=\"https://colab.research.google.com/assets/colab-badge.svg\" alt=\"Open In Colab\"/></a>"
      ]
    },
    {
      "cell_type": "markdown",
      "source": [
        "# 👽 RPG 게임 만들기\n"
      ],
      "metadata": {
        "id": "CdWaBjWcfSn4"
      }
    },
    {
      "cell_type": "code",
      "source": [
        "!pip install colorama\n",
        "from colorama import Fore, Style\n",
        "import random\n",
        "\n",
        "class Character:\n",
        "\n",
        "  def __init__(self, name, level, hp, attack, defense):\n",
        "        self.name = name\n",
        "        self.level = level\n",
        "        self.hp = hp\n",
        "        self.attack = attack\n",
        "        self.defense = defense\n",
        "\n",
        "  def is_alive(self):\n",
        "\n",
        "      return self.hp>=0\n",
        "\n",
        "  def take_damage(self,damage):\n",
        "      if self.defense < damage:\n",
        "          self.hp -= (damage - self.defense)\n",
        "\n",
        "          print(f'{self.name}(이)가 {damage-self.defense}만큼의 피해를 입었습니다! {self.name}의 현재 체력:{self.hp}\\n')\n",
        "\n",
        "\n",
        "\n",
        "  def attack_target(self,target):\n",
        "      damage = random.randint(1,self.attack)\n",
        "      target.take_damage(damage)\n",
        "\n",
        "\n",
        "\n"
      ],
      "metadata": {
        "colab": {
          "base_uri": "https://localhost:8080/"
        },
        "id": "eCmPUjDmfbjv",
        "outputId": "27508ce1-ac61-4fa8-88f3-c5942d05b91b"
      },
      "execution_count": 254,
      "outputs": [
        {
          "output_type": "stream",
          "name": "stdout",
          "text": [
            "Requirement already satisfied: colorama in /usr/local/lib/python3.11/dist-packages (0.4.6)\n"
          ]
        }
      ]
    },
    {
      "cell_type": "code",
      "source": [
        "class Player(Character):\n",
        "\n",
        "    def __init__(self,name):\n",
        "        super().__init__(name, level=1, hp=100, attack=25, defense=5)\n",
        "        self.exp = 0\n",
        "\n",
        "        print(f'******\\n 플레이어 이름:{self.name}\\n 레벨:{self.level}\\n 체력:{self.hp}\\n 공격력:{self.attack}\\n 방어력:{self.defense}\\n 경험치:{self.exp}\\n******')\n",
        "\n",
        "\n",
        "\n",
        "    def gain_experience(self,exp):\n",
        "\n",
        "        self.exp += exp\n",
        "        print(f'경험치 {exp}획득! 누적 경험치: {self.exp}')\n",
        "\n",
        "\n",
        "        if self.exp >= 50:\n",
        "            self.level_up()\n",
        "        print(f'******\\n😛 플레이어 이름:{self.name} 😛\\n    레벨:{self.level}\\n    체력:{self.hp}\\n    공격력:{self.attack}\\n    방어력:{self.defense}\\n    경험치:{self.exp}\\n******')\n",
        "\n",
        "\n",
        "    def level_up(self):\n",
        "            self.level += 1\n",
        "            self.attack += 10\n",
        "            self.defense += 5\n",
        "            print(\"+1 레벨 업!\\n\")\n",
        "            print(\"==> 공격력 +25 ! == 방어력 +5 ! <==\")\n",
        "\n"
      ],
      "metadata": {
        "id": "vzjWxSsejRzF"
      },
      "execution_count": 247,
      "outputs": []
    },
    {
      "cell_type": "code",
      "source": [
        "class Monster(Character):\n",
        "\n",
        "  def __init__(self,name,level):\n",
        "    hp = random.randint(10,30)*level\n",
        "    attack = random.randint(5,20)*level\n",
        "    defense = random.randint(1,5)*level\n",
        "    super().__init__(name, level, hp, attack, defense)\n",
        "    print(f'******\\n 👽 몬스터 이름:{self.name} 👽\\n    레벨:{self.level}\\n    체력:{self.hp}\\n    공격력:{self.attack}\\n    방어력:{self.defense}\\n******')\n"
      ],
      "metadata": {
        "id": "k1r4wQiwoBVi"
      },
      "execution_count": 248,
      "outputs": []
    },
    {
      "cell_type": "code",
      "source": [
        "def Battle(player, monster):\n",
        "  print(Fore.GREEN+f'******{player.name} vs {monster.name} .******\\n'+Style.RESET_ALL)\n",
        "  while player.is_alive() and monster.is_alive():\n",
        "\n",
        "      player.attack_target(monster)\n",
        "\n",
        "      if not monster.is_alive():\n",
        "\n",
        "          print(f\"{monster.name} 제거 완료\\n\")\n",
        "          print(\"💯💯💯 전투 승리! 💯💯💯\\n\")\n",
        "\n",
        "          player.gain_experience(monster.level*20)\n",
        "\n",
        "\n",
        "          break\n",
        "\n",
        "          if player.exp >= 50:\n",
        "              return level_up()\n",
        "\n",
        "\n",
        "      monster.attack_target(player)\n",
        "      if not player.is_alive():\n",
        "          print(\"🩸🩸🩸 전투 패배..ㅠㅠ 🩸🩸🩸\\n\")\n",
        "          break\n",
        "\n",
        "\n"
      ],
      "metadata": {
        "id": "dd6VTygqjUnN"
      },
      "execution_count": 249,
      "outputs": []
    },
    {
      "cell_type": "code",
      "source": [
        "def Main():\n",
        "    monster_dict = {'슬라임': 1, '고블린' : 2, '오크': 3,'드래곤': 4,'피카츄':5}\n",
        "    print(Fore.RED+\"!!!!! GAME START !!!!!\"+ Style.RESET_ALL)\n",
        "    player_name = input(\"플레이어 이름을 입력하세요: \\n\")\n",
        "    player = Player(player_name)\n",
        "\n",
        "    for monster_name, level in monster_dict.items():\n",
        "        monster = Monster(monster_name, level)\n",
        "        Battle(player, monster)\n",
        "\n",
        "\n",
        "Main()\n",
        "print(Fore.RED+\"!!!!! GAME OVER !!!!!\"+ Style.RESET_ALL)\n",
        "\n",
        ""
      ],
      "metadata": {
        "colab": {
          "base_uri": "https://localhost:8080/"
        },
        "id": "EC2xJ6TpjbGx",
        "outputId": "671a5d57-bf81-434d-9019-bf5f490be568"
      },
      "execution_count": 252,
      "outputs": [
        {
          "output_type": "stream",
          "name": "stdout",
          "text": [
            "\u001b[31m!!!!! GAME START !!!!!\u001b[0m\n",
            "플레이어 이름을 입력하세요: \n",
            "ㄱㄷ\n",
            "******\n",
            " 플레이어 이름:ㄱㄷ\n",
            " 레벨:1\n",
            " 체력:100\n",
            " 공격력:25\n",
            " 방어력:5\n",
            " 경험치:0\n",
            "******\n",
            "******\n",
            " 👽 몬스터 이름:슬라임 👽\n",
            "    레벨:1\n",
            "    체력:14\n",
            "    공격력:17\n",
            "    방어력:4\n",
            "******\n",
            "\u001b[32m******ㄱㄷ vs 슬라임 .******\n",
            "\u001b[0m\n",
            "슬라임(이)가 18만큼의 피해를 입었습니다! 슬라임의 현재 체력:-4\n",
            "\n",
            "슬라임 제거 완료\n",
            "\n",
            "💯💯💯 전투 승리! 💯💯💯\n",
            "\n",
            "경험치 20획득! 누적 경험치: 20\n",
            "******\n",
            "😛 플레이어 이름:ㄱㄷ 😛\n",
            "    레벨:1\n",
            "    체력:100\n",
            "    공격력:25\n",
            "    방어력:5\n",
            "    경험치:20\n",
            "******\n",
            "******\n",
            " 👽 몬스터 이름:고블린 👽\n",
            "    레벨:2\n",
            "    체력:38\n",
            "    공격력:10\n",
            "    방어력:8\n",
            "******\n",
            "\u001b[32m******ㄱㄷ vs 고블린 .******\n",
            "\u001b[0m\n",
            "고블린(이)가 4만큼의 피해를 입었습니다! 고블린의 현재 체력:34\n",
            "\n",
            "ㄱㄷ(이)가 4만큼의 피해를 입었습니다! ㄱㄷ의 현재 체력:96\n",
            "\n",
            "고블린(이)가 15만큼의 피해를 입었습니다! 고블린의 현재 체력:19\n",
            "\n",
            "ㄱㄷ(이)가 3만큼의 피해를 입었습니다! ㄱㄷ의 현재 체력:93\n",
            "\n",
            "ㄱㄷ(이)가 2만큼의 피해를 입었습니다! ㄱㄷ의 현재 체력:91\n",
            "\n",
            "고블린(이)가 16만큼의 피해를 입었습니다! 고블린의 현재 체력:3\n",
            "\n",
            "ㄱㄷ(이)가 4만큼의 피해를 입었습니다! ㄱㄷ의 현재 체력:87\n",
            "\n",
            "고블린(이)가 8만큼의 피해를 입었습니다! 고블린의 현재 체력:-5\n",
            "\n",
            "고블린 제거 완료\n",
            "\n",
            "💯💯💯 전투 승리! 💯💯💯\n",
            "\n",
            "경험치 40획득! 누적 경험치: 60\n",
            "+1 레벨 업!\n",
            "\n",
            "==> 공격력 +25 ! == 방어력 +5 ! <==\n",
            "******\n",
            "😛 플레이어 이름:ㄱㄷ 😛\n",
            "    레벨:2\n",
            "    체력:87\n",
            "    공격력:35\n",
            "    방어력:10\n",
            "    경험치:60\n",
            "******\n",
            "******\n",
            " 👽 몬스터 이름:오크 👽\n",
            "    레벨:3\n",
            "    체력:36\n",
            "    공격력:21\n",
            "    방어력:15\n",
            "******\n",
            "\u001b[32m******ㄱㄷ vs 오크 .******\n",
            "\u001b[0m\n",
            "ㄱㄷ(이)가 11만큼의 피해를 입었습니다! ㄱㄷ의 현재 체력:76\n",
            "\n",
            "오크(이)가 2만큼의 피해를 입었습니다! 오크의 현재 체력:34\n",
            "\n",
            "오크(이)가 11만큼의 피해를 입었습니다! 오크의 현재 체력:23\n",
            "\n",
            "오크(이)가 17만큼의 피해를 입었습니다! 오크의 현재 체력:6\n",
            "\n",
            "ㄱㄷ(이)가 3만큼의 피해를 입었습니다! ㄱㄷ의 현재 체력:73\n",
            "\n",
            "오크(이)가 3만큼의 피해를 입었습니다! 오크의 현재 체력:3\n",
            "\n",
            "ㄱㄷ(이)가 5만큼의 피해를 입었습니다! ㄱㄷ의 현재 체력:68\n",
            "\n",
            "오크(이)가 10만큼의 피해를 입었습니다! 오크의 현재 체력:-7\n",
            "\n",
            "오크 제거 완료\n",
            "\n",
            "💯💯💯 전투 승리! 💯💯💯\n",
            "\n",
            "경험치 60획득! 누적 경험치: 120\n",
            "+1 레벨 업!\n",
            "\n",
            "==> 공격력 +25 ! == 방어력 +5 ! <==\n",
            "******\n",
            "😛 플레이어 이름:ㄱㄷ 😛\n",
            "    레벨:3\n",
            "    체력:68\n",
            "    공격력:45\n",
            "    방어력:15\n",
            "    경험치:120\n",
            "******\n",
            "******\n",
            " 👽 몬스터 이름:드래곤 👽\n",
            "    레벨:4\n",
            "    체력:80\n",
            "    공격력:44\n",
            "    방어력:20\n",
            "******\n",
            "\u001b[32m******ㄱㄷ vs 드래곤 .******\n",
            "\u001b[0m\n",
            "드래곤(이)가 19만큼의 피해를 입었습니다! 드래곤의 현재 체력:61\n",
            "\n",
            "드래곤(이)가 3만큼의 피해를 입었습니다! 드래곤의 현재 체력:58\n",
            "\n",
            "ㄱㄷ(이)가 25만큼의 피해를 입었습니다! ㄱㄷ의 현재 체력:43\n",
            "\n",
            "드래곤(이)가 19만큼의 피해를 입었습니다! 드래곤의 현재 체력:39\n",
            "\n",
            "ㄱㄷ(이)가 5만큼의 피해를 입었습니다! ㄱㄷ의 현재 체력:38\n",
            "\n",
            "드래곤(이)가 7만큼의 피해를 입었습니다! 드래곤의 현재 체력:32\n",
            "\n",
            "ㄱㄷ(이)가 27만큼의 피해를 입었습니다! ㄱㄷ의 현재 체력:11\n",
            "\n",
            "드래곤(이)가 20만큼의 피해를 입었습니다! 드래곤의 현재 체력:12\n",
            "\n",
            "ㄱㄷ(이)가 14만큼의 피해를 입었습니다! ㄱㄷ의 현재 체력:-3\n",
            "\n",
            "🩸🩸🩸 전투 패배..ㅠㅠ 🩸🩸🩸\n",
            "\n",
            "******\n",
            " 👽 몬스터 이름:피카츄 👽\n",
            "    레벨:5\n",
            "    체력:115\n",
            "    공격력:70\n",
            "    방어력:5\n",
            "******\n",
            "\u001b[32m******ㄱㄷ vs 피카츄 .******\n",
            "\u001b[0m\n",
            "\u001b[31m!!!!! GAME OVER !!!!!\u001b[0m\n"
          ]
        }
      ]
    },
    {
      "cell_type": "code",
      "source": [],
      "metadata": {
        "id": "QfIqc9juw23K"
      },
      "execution_count": null,
      "outputs": []
    },
    {
      "cell_type": "markdown",
      "source": [
        "# ✅ 회고\n"
      ],
      "metadata": {
        "id": "d8TEU79qw3Ol"
      }
    },
    {
      "cell_type": "markdown",
      "source": [
        "\n",
        "\n",
        "*  ✌ 클래스 상속받기: 부모클래스의 __init__을 그대로 사용하기 위해서는 super.__init__(상속받을 속성)을 활용하면 된다는 점을 알게 되었다.\n",
        "*  😢if 문을 통해 조건을 만족하면, 변수를 그대로 둔다는 의미에서 self.hp = self.hp로 작성하였는데, 조건문을 적절하게 활용하지 못한 것 같다.\n",
        "\n",
        "바꾸기 전\n",
        "```\n",
        "def take_damage(self,damage):\n",
        "      if self.defense < damage:\n",
        "          self.hp = self.hp\n",
        "      else:\n",
        "        self.hp -= damage - self.defense\n",
        "      print(f'{self.name}(이)가 {damage}만큼의 피해를 입었습니다! 남은 체력:{self.hp}\\n')\n",
        "```\n",
        "chat GPT를 통해 수정한 코드\n",
        " ```\n",
        "def take_damage(self,damage):\n",
        "      if self.defense < damage:\n",
        "          self.hp -= (damage - self.defense)\n",
        "          print(f'{self.name}(이)가 {damage}만큼의 피해를 입었습니다! 남은 체력:{self.hp}\\n')\n",
        " ```\n",
        "\n",
        "\n",
        "*   몬스터를 2마리 더 추가하였는데, 5마리와 다 배틀을 하려면 데미지의 숫자를 낮추거나, 플레이어의 체력을 높이는 방식으로 수정이 필요할 것 같다.\n",
        "    - 또는, 가위바위보와 같은 미니게임에서 승리하면 공격력이나 체력을 높여주는 방식도 구현해보고 싶다!\n",
        "\n",
        "\n",
        "\n",
        "\n"
      ],
      "metadata": {
        "id": "tJVmp1lfw6n-"
      }
    }
  ]
}